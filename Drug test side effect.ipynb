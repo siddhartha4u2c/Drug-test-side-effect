{
 "cells": [
  {
   "cell_type": "code",
   "execution_count": 1,
   "metadata": {},
   "outputs": [],
   "source": [
    "# Performed with reference from online content of Simplilearn"
   ]
  },
  {
   "cell_type": "code",
   "execution_count": 2,
   "metadata": {},
   "outputs": [],
   "source": [
    "# Experimental drug was tested on 2100 individuals between 13 to 100 years of Age.Half the participants are under 65 and around 95% of the participants under 65 experienced no side effects.95% of participants over 65 experienced side effects."
   ]
  },
  {
   "cell_type": "code",
   "execution_count": 3,
   "metadata": {},
   "outputs": [],
   "source": [
    "# Building a model to determine if a person suffered from side effect or not"
   ]
  },
  {
   "cell_type": "code",
   "execution_count": 4,
   "metadata": {},
   "outputs": [],
   "source": [
    "import numpy as np\n",
    "from random import randint\n",
    "from sklearn.utils import shuffle\n",
    "from sklearn.preprocessing import MinMaxScaler"
   ]
  },
  {
   "cell_type": "code",
   "execution_count": 5,
   "metadata": {},
   "outputs": [],
   "source": [
    "train_labels=[]\n",
    "train_samples=[]"
   ]
  },
  {
   "cell_type": "code",
   "execution_count": 6,
   "metadata": {},
   "outputs": [],
   "source": [
    "# 5% of younger individuals who experienced side effects\n",
    "for i in range(50):\n",
    "  random_younger=randint(13,64)\n",
    "  train_samples.append(random_younger)\n",
    "  train_labels.append(1)\n",
    "\n",
    "# 5% of older individuals who did not experience side effects\n",
    "\n",
    "\n",
    "  random_older=randint(65,100)\n",
    "  train_samples.append(random_older)\n",
    "  train_labels.append(0)\n",
    "\n",
    "# 95% of younger individuals who did not experience side effects\n",
    "\n",
    "for i in range(1000):\n",
    "  random_younger=randint(13,64)\n",
    "  train_samples.append(random_younger)\n",
    "  train_labels.append(0)\n",
    "\n",
    "# 95% of older individuals who experienced side effects\n",
    "\n",
    "\n",
    "  random_older=randint(65,100)\n",
    "  train_samples.append(random_older)\n",
    "  train_labels.append(1)\n"
   ]
  },
  {
   "cell_type": "code",
   "execution_count": 7,
   "metadata": {},
   "outputs": [
    {
     "name": "stdout",
     "output_type": "stream",
     "text": [
      "2100\n"
     ]
    }
   ],
   "source": [
    "print(len(train_samples))"
   ]
  },
  {
   "cell_type": "code",
   "execution_count": 8,
   "metadata": {},
   "outputs": [
    {
     "name": "stdout",
     "output_type": "stream",
     "text": [
      "2100\n"
     ]
    }
   ],
   "source": [
    "print(len(train_labels))"
   ]
  },
  {
   "cell_type": "code",
   "execution_count": 9,
   "metadata": {},
   "outputs": [],
   "source": [
    "train_labels=np.array(train_labels)\n",
    "train_samples=np.array(train_samples)\n",
    "train_labels,train_samples=shuffle(train_labels,train_samples)"
   ]
  },
  {
   "cell_type": "code",
   "execution_count": 10,
   "metadata": {},
   "outputs": [
    {
     "data": {
      "text/plain": [
       "array([[0.42528736],\n",
       "       [0.72413793],\n",
       "       [0.68965517],\n",
       "       [0.93103448],\n",
       "       [0.49425287]])"
      ]
     },
     "execution_count": 10,
     "metadata": {},
     "output_type": "execute_result"
    }
   ],
   "source": [
    "scaler=MinMaxScaler(feature_range=(0,1))\n",
    "scaled_train_samples=scaler.fit_transform(train_samples.reshape(-1,1))\n",
    "scaled_train_samples[0:5]"
   ]
  },
  {
   "cell_type": "code",
   "execution_count": 11,
   "metadata": {},
   "outputs": [
    {
     "name": "stderr",
     "output_type": "stream",
     "text": [
      "WARNING:root:Limited tf.compat.v2.summary API due to missing TensorBoard installation.\n",
      "WARNING:root:Limited tf.compat.v2.summary API due to missing TensorBoard installation.\n",
      "WARNING:root:Limited tf.compat.v2.summary API due to missing TensorBoard installation.\n",
      "WARNING:root:Limited tf.compat.v2.summary API due to missing TensorBoard installation.\n",
      "WARNING:root:Limited tf.compat.v2.summary API due to missing TensorBoard installation.\n",
      "WARNING:root:Limited tf.compat.v2.summary API due to missing TensorBoard installation.\n",
      "WARNING:root:Limited tf.summary API due to missing TensorBoard installation.\n"
     ]
    }
   ],
   "source": [
    "import tensorflow as tf\n",
    "from tensorflow import keras\n",
    "from tensorflow.keras.models import Sequential\n",
    "from tensorflow.keras.layers import Activation,Dense\n",
    "from tensorflow.keras.optimizers import Adam\n",
    "from tensorflow.keras.metrics import categorical_crossentropy"
   ]
  },
  {
   "cell_type": "code",
   "execution_count": 12,
   "metadata": {},
   "outputs": [],
   "source": [
    "model=Sequential([Dense(units=16,input_shape=(1,),activation='relu'),Dense(units=32,activation='relu'),Dense(units=2,activation='softmax')])"
   ]
  },
  {
   "cell_type": "code",
   "execution_count": 13,
   "metadata": {},
   "outputs": [
    {
     "name": "stdout",
     "output_type": "stream",
     "text": [
      "Model: \"sequential\"\n",
      "_________________________________________________________________\n",
      "Layer (type)                 Output Shape              Param #   \n",
      "=================================================================\n",
      "dense (Dense)                (None, 16)                32        \n",
      "_________________________________________________________________\n",
      "dense_1 (Dense)              (None, 32)                544       \n",
      "_________________________________________________________________\n",
      "dense_2 (Dense)              (None, 2)                 66        \n",
      "=================================================================\n",
      "Total params: 642\n",
      "Trainable params: 642\n",
      "Non-trainable params: 0\n",
      "_________________________________________________________________\n"
     ]
    }
   ],
   "source": [
    "model.summary()"
   ]
  },
  {
   "cell_type": "code",
   "execution_count": 14,
   "metadata": {},
   "outputs": [],
   "source": [
    "model.compile(optimizer=Adam(learning_rate=0.0001),loss='sparse_categorical_crossentropy',metrics=['accuracy'])"
   ]
  },
  {
   "cell_type": "code",
   "execution_count": 15,
   "metadata": {},
   "outputs": [
    {
     "name": "stdout",
     "output_type": "stream",
     "text": [
      "Train on 1890 samples, validate on 210 samples\n",
      "Epoch 1/30\n",
      "1890/1890 - 1s - loss: 0.6900 - accuracy: 0.5905 - val_loss: 0.6805 - val_accuracy: 0.5619\n",
      "Epoch 2/30\n",
      "1890/1890 - 0s - loss: 0.6681 - accuracy: 0.6222 - val_loss: 0.6607 - val_accuracy: 0.6143\n",
      "Epoch 3/30\n",
      "1890/1890 - 0s - loss: 0.6467 - accuracy: 0.6667 - val_loss: 0.6396 - val_accuracy: 0.6905\n",
      "Epoch 4/30\n",
      "1890/1890 - 0s - loss: 0.6252 - accuracy: 0.7127 - val_loss: 0.6193 - val_accuracy: 0.7381\n",
      "Epoch 5/30\n",
      "1890/1890 - 0s - loss: 0.6051 - accuracy: 0.7423 - val_loss: 0.5991 - val_accuracy: 0.7619\n",
      "Epoch 6/30\n",
      "1890/1890 - 0s - loss: 0.5843 - accuracy: 0.7720 - val_loss: 0.5773 - val_accuracy: 0.7952\n",
      "Epoch 7/30\n",
      "1890/1890 - 0s - loss: 0.5628 - accuracy: 0.7942 - val_loss: 0.5548 - val_accuracy: 0.8000\n",
      "Epoch 8/30\n",
      "1890/1890 - 0s - loss: 0.5407 - accuracy: 0.8127 - val_loss: 0.5317 - val_accuracy: 0.8048\n",
      "Epoch 9/30\n",
      "1890/1890 - 0s - loss: 0.5185 - accuracy: 0.8254 - val_loss: 0.5084 - val_accuracy: 0.8143\n",
      "Epoch 10/30\n",
      "1890/1890 - 0s - loss: 0.4965 - accuracy: 0.8402 - val_loss: 0.4854 - val_accuracy: 0.8381\n",
      "Epoch 11/30\n",
      "1890/1890 - 0s - loss: 0.4751 - accuracy: 0.8487 - val_loss: 0.4627 - val_accuracy: 0.8762\n",
      "Epoch 12/30\n",
      "1890/1890 - 0s - loss: 0.4545 - accuracy: 0.8640 - val_loss: 0.4415 - val_accuracy: 0.8857\n",
      "Epoch 13/30\n",
      "1890/1890 - 0s - loss: 0.4352 - accuracy: 0.8709 - val_loss: 0.4216 - val_accuracy: 0.8905\n",
      "Epoch 14/30\n",
      "1890/1890 - 0s - loss: 0.4173 - accuracy: 0.8757 - val_loss: 0.4033 - val_accuracy: 0.9095\n",
      "Epoch 15/30\n",
      "1890/1890 - 0s - loss: 0.4011 - accuracy: 0.8910 - val_loss: 0.3867 - val_accuracy: 0.9095\n",
      "Epoch 16/30\n",
      "1890/1890 - 0s - loss: 0.3863 - accuracy: 0.9000 - val_loss: 0.3722 - val_accuracy: 0.9095\n",
      "Epoch 17/30\n",
      "1890/1890 - 0s - loss: 0.3732 - accuracy: 0.9016 - val_loss: 0.3589 - val_accuracy: 0.9143\n",
      "Epoch 18/30\n",
      "1890/1890 - 0s - loss: 0.3616 - accuracy: 0.9026 - val_loss: 0.3471 - val_accuracy: 0.9190\n",
      "Epoch 19/30\n",
      "1890/1890 - 0s - loss: 0.3513 - accuracy: 0.9101 - val_loss: 0.3370 - val_accuracy: 0.9190\n",
      "Epoch 20/30\n",
      "1890/1890 - 0s - loss: 0.3424 - accuracy: 0.9095 - val_loss: 0.3281 - val_accuracy: 0.9190\n",
      "Epoch 21/30\n",
      "1890/1890 - 0s - loss: 0.3345 - accuracy: 0.9169 - val_loss: 0.3203 - val_accuracy: 0.9190\n",
      "Epoch 22/30\n",
      "1890/1890 - 0s - loss: 0.3275 - accuracy: 0.9159 - val_loss: 0.3136 - val_accuracy: 0.9333\n",
      "Epoch 23/30\n",
      "1890/1890 - 0s - loss: 0.3215 - accuracy: 0.9169 - val_loss: 0.3075 - val_accuracy: 0.9333\n",
      "Epoch 24/30\n",
      "1890/1890 - 0s - loss: 0.3163 - accuracy: 0.9190 - val_loss: 0.3026 - val_accuracy: 0.9381\n",
      "Epoch 25/30\n",
      "1890/1890 - 0s - loss: 0.3116 - accuracy: 0.9238 - val_loss: 0.2981 - val_accuracy: 0.9333\n",
      "Epoch 26/30\n",
      "1890/1890 - 0s - loss: 0.3075 - accuracy: 0.9217 - val_loss: 0.2943 - val_accuracy: 0.9381\n",
      "Epoch 27/30\n",
      "1890/1890 - 0s - loss: 0.3039 - accuracy: 0.9317 - val_loss: 0.2908 - val_accuracy: 0.9333\n",
      "Epoch 28/30\n",
      "1890/1890 - 0s - loss: 0.3007 - accuracy: 0.9270 - val_loss: 0.2878 - val_accuracy: 0.9381\n",
      "Epoch 29/30\n",
      "1890/1890 - 1s - loss: 0.2978 - accuracy: 0.9312 - val_loss: 0.2849 - val_accuracy: 0.9381\n",
      "Epoch 30/30\n",
      "1890/1890 - 1s - loss: 0.2952 - accuracy: 0.9317 - val_loss: 0.2826 - val_accuracy: 0.9381\n"
     ]
    },
    {
     "data": {
      "text/plain": [
       "<tensorflow.python.keras.callbacks.History at 0x1f8fac09198>"
      ]
     },
     "execution_count": 15,
     "metadata": {},
     "output_type": "execute_result"
    }
   ],
   "source": [
    "model.fit(x=scaled_train_samples,y=train_labels,validation_split=0.1,batch_size=10,shuffle=True,epochs=30,verbose=2)"
   ]
  },
  {
   "cell_type": "code",
   "execution_count": 16,
   "metadata": {},
   "outputs": [],
   "source": [
    "test_labels=[]\n",
    "test_samples=[]"
   ]
  },
  {
   "cell_type": "code",
   "execution_count": 17,
   "metadata": {},
   "outputs": [],
   "source": [
    "# 5% of younger individuals who experienced side effects\n",
    "for i in range(50):\n",
    "  random_younger=randint(13,64)\n",
    "  test_samples.append(random_younger)\n",
    "  test_labels.append(1)\n",
    "\n",
    "# 5% of older individuals who did not experience side effects\n",
    "\n",
    "\n",
    "  random_older=randint(65,100)\n",
    "  test_samples.append(random_older)\n",
    "  test_labels.append(0)\n",
    "\n",
    "# 95% of younger individuals who did not experience side effects\n",
    "\n",
    "for i in range(200):\n",
    "  random_younger=randint(13,64)\n",
    "  test_samples.append(random_younger)\n",
    "  test_labels.append(0)\n",
    "\n",
    "# 95% of older individuals who experienced side effects\n",
    "\n",
    "\n",
    "  random_older=randint(65,100)\n",
    "  test_samples.append(random_older)\n",
    "  test_labels.append(1)\n"
   ]
  },
  {
   "cell_type": "code",
   "execution_count": 18,
   "metadata": {},
   "outputs": [],
   "source": [
    "scaler=MinMaxScaler(feature_range=(0,1))"
   ]
  },
  {
   "cell_type": "code",
   "execution_count": 19,
   "metadata": {},
   "outputs": [],
   "source": [
    "test_labels=np.array(test_labels)\n",
    "test_samples=np.array(test_samples)\n",
    "test_labels,test_samples=shuffle(test_labels,test_samples)"
   ]
  },
  {
   "cell_type": "code",
   "execution_count": 20,
   "metadata": {},
   "outputs": [
    {
     "data": {
      "text/plain": [
       "array([[0.04597701],\n",
       "       [0.68965517],\n",
       "       [0.62068966],\n",
       "       [0.91954023],\n",
       "       [0.20689655]])"
      ]
     },
     "execution_count": 20,
     "metadata": {},
     "output_type": "execute_result"
    }
   ],
   "source": [
    "scaled_test_samples=scaler.fit_transform(test_samples.reshape(-1,1))\n",
    "scaled_test_samples[0:5]"
   ]
  },
  {
   "cell_type": "code",
   "execution_count": 21,
   "metadata": {},
   "outputs": [
    {
     "data": {
      "text/plain": [
       "500"
      ]
     },
     "execution_count": 21,
     "metadata": {},
     "output_type": "execute_result"
    }
   ],
   "source": [
    "len(scaled_test_samples)"
   ]
  },
  {
   "cell_type": "code",
   "execution_count": 22,
   "metadata": {},
   "outputs": [],
   "source": [
    "# Predict the label for test sample using the model\n",
    "predictions=model.predict(x=scaled_test_samples,batch_size=10,verbose=0)"
   ]
  },
  {
   "cell_type": "code",
   "execution_count": 23,
   "metadata": {},
   "outputs": [
    {
     "name": "stdout",
     "output_type": "stream",
     "text": [
      "[[0.9432783  0.05672172]\n",
      " [0.22466871 0.7753313 ]\n",
      " [0.35363582 0.64636415]\n",
      " [0.05012684 0.94987315]\n",
      " [0.9448121  0.05518784]]\n"
     ]
    }
   ],
   "source": [
    "print(predictions[:5])"
   ]
  },
  {
   "cell_type": "code",
   "execution_count": 24,
   "metadata": {},
   "outputs": [
    {
     "data": {
      "text/plain": [
       "array([0, 1, 1, 1, 0], dtype=int64)"
      ]
     },
     "execution_count": 24,
     "metadata": {},
     "output_type": "execute_result"
    }
   ],
   "source": [
    "rounded_predictions=np.argmax(predictions,axis=-1)\n",
    "rounded_predictions[:5]"
   ]
  },
  {
   "cell_type": "code",
   "execution_count": 25,
   "metadata": {},
   "outputs": [],
   "source": [
    "from sklearn.metrics import confusion_matrix"
   ]
  },
  {
   "cell_type": "code",
   "execution_count": 26,
   "metadata": {},
   "outputs": [],
   "source": [
    "cm=confusion_matrix(y_true=test_labels,y_pred=rounded_predictions)"
   ]
  },
  {
   "cell_type": "code",
   "execution_count": 27,
   "metadata": {},
   "outputs": [
    {
     "name": "stdout",
     "output_type": "stream",
     "text": [
      "[[186  64]\n",
      " [ 48 202]]\n"
     ]
    }
   ],
   "source": [
    "print(cm)"
   ]
  },
  {
   "cell_type": "code",
   "execution_count": null,
   "metadata": {},
   "outputs": [],
   "source": []
  },
  {
   "cell_type": "code",
   "execution_count": null,
   "metadata": {},
   "outputs": [],
   "source": []
  },
  {
   "cell_type": "code",
   "execution_count": null,
   "metadata": {},
   "outputs": [],
   "source": []
  },
  {
   "cell_type": "code",
   "execution_count": null,
   "metadata": {},
   "outputs": [],
   "source": []
  }
 ],
 "metadata": {
  "kernelspec": {
   "display_name": "Python 3",
   "language": "python",
   "name": "python3"
  },
  "language_info": {
   "codemirror_mode": {
    "name": "ipython",
    "version": 3
   },
   "file_extension": ".py",
   "mimetype": "text/x-python",
   "name": "python",
   "nbconvert_exporter": "python",
   "pygments_lexer": "ipython3",
   "version": "3.6.5"
  }
 },
 "nbformat": 4,
 "nbformat_minor": 2
}
